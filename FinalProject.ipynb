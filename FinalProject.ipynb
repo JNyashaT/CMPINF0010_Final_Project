{
 "cells": [
  {
   "cell_type": "markdown",
   "metadata": {},
   "source": [
    "# Capital Projects"
   ]
  },
  {
   "cell_type": "markdown",
   "metadata": {},
   "source": [
    "## Group 50"
   ]
  },
  {
   "cell_type": "markdown",
   "metadata": {},
   "source": [
    "#### Joseph Tornetta"
   ]
  },
  {
   "cell_type": "code",
   "execution_count": 65,
   "metadata": {},
   "outputs": [],
   "source": [
    "import pandas as pd\n",
    "import geopandas"
   ]
  },
  {
   "cell_type": "markdown",
   "metadata": {},
   "source": [
    "The town in the Lorax, Thneedville, was set up entirely as a result of capital greed. To find the neighborhood that best matches Thneedville, I will look at the captial projects throughout Pittsburgh, and find the best. "
   ]
  },
  {
   "cell_type": "code",
   "execution_count": 66,
   "metadata": {},
   "outputs": [
    {
     "data": {
      "text/html": [
       "<div>\n",
       "<style scoped>\n",
       "    .dataframe tbody tr th:only-of-type {\n",
       "        vertical-align: middle;\n",
       "    }\n",
       "\n",
       "    .dataframe tbody tr th {\n",
       "        vertical-align: top;\n",
       "    }\n",
       "\n",
       "    .dataframe thead th {\n",
       "        text-align: right;\n",
       "    }\n",
       "</style>\n",
       "<table border=\"1\" class=\"dataframe\">\n",
       "  <thead>\n",
       "    <tr style=\"text-align: right;\">\n",
       "      <th></th>\n",
       "      <th>name</th>\n",
       "      <th>task_description</th>\n",
       "      <th>area</th>\n",
       "      <th>budgeted_amount</th>\n",
       "      <th>status</th>\n",
       "      <th>asset_id</th>\n",
       "      <th>asset_type</th>\n",
       "      <th>fiscal_year</th>\n",
       "      <th>start_date</th>\n",
       "      <th>inactive</th>\n",
       "      <th>neighborhood</th>\n",
       "      <th>council_district</th>\n",
       "      <th>ward</th>\n",
       "      <th>tract</th>\n",
       "      <th>public_works_division</th>\n",
       "      <th>pli_division</th>\n",
       "      <th>police_zone</th>\n",
       "      <th>fire_zone</th>\n",
       "      <th>latitude</th>\n",
       "      <th>longitude</th>\n",
       "    </tr>\n",
       "    <tr>\n",
       "      <th>id</th>\n",
       "      <th></th>\n",
       "      <th></th>\n",
       "      <th></th>\n",
       "      <th></th>\n",
       "      <th></th>\n",
       "      <th></th>\n",
       "      <th></th>\n",
       "      <th></th>\n",
       "      <th></th>\n",
       "      <th></th>\n",
       "      <th></th>\n",
       "      <th></th>\n",
       "      <th></th>\n",
       "      <th></th>\n",
       "      <th></th>\n",
       "      <th></th>\n",
       "      <th></th>\n",
       "      <th></th>\n",
       "      <th></th>\n",
       "      <th></th>\n",
       "    </tr>\n",
       "  </thead>\n",
       "  <tbody>\n",
       "    <tr>\n",
       "      <th>1273388077</th>\n",
       "      <td>STEP REPAIR AND REPLACEMENT</td>\n",
       "      <td>FRAZIER STREET STEP UPGRADES</td>\n",
       "      <td>Engineering and Construction</td>\n",
       "      <td>200000.0</td>\n",
       "      <td>Planned</td>\n",
       "      <td>Frazier St from Bates St</td>\n",
       "      <td>Step</td>\n",
       "      <td>2020</td>\n",
       "      <td>2020-09-24</td>\n",
       "      <td>NaN</td>\n",
       "      <td>South Oakland</td>\n",
       "      <td>3.0</td>\n",
       "      <td>4.0</td>\n",
       "      <td>4.200304e+10</td>\n",
       "      <td>3.0</td>\n",
       "      <td>4.0</td>\n",
       "      <td>4.0</td>\n",
       "      <td>2-11</td>\n",
       "      <td>40.432454</td>\n",
       "      <td>-79.957794</td>\n",
       "    </tr>\n",
       "    <tr>\n",
       "      <th>337260139</th>\n",
       "      <td>RAMP AND PUBLIC SIDEWALK</td>\n",
       "      <td>ADA Curb Ramps and Public Sidewalks</td>\n",
       "      <td>Engineering and Construction</td>\n",
       "      <td>100000.0</td>\n",
       "      <td>Planned</td>\n",
       "      <td>NaN</td>\n",
       "      <td>Non-Asset</td>\n",
       "      <td>2017</td>\n",
       "      <td>2017-02-08</td>\n",
       "      <td>NaN</td>\n",
       "      <td>NaN</td>\n",
       "      <td>NaN</td>\n",
       "      <td>NaN</td>\n",
       "      <td>NaN</td>\n",
       "      <td>NaN</td>\n",
       "      <td>NaN</td>\n",
       "      <td>NaN</td>\n",
       "      <td>NaN</td>\n",
       "      <td>NaN</td>\n",
       "      <td>NaN</td>\n",
       "    </tr>\n",
       "    <tr>\n",
       "      <th>1932663062</th>\n",
       "      <td>URBAN REDEVELOPMENT AUTHORITY PERSONNEL</td>\n",
       "      <td>HOME program administration</td>\n",
       "      <td>Administration/Sub-Award</td>\n",
       "      <td>160000.0</td>\n",
       "      <td>Planned</td>\n",
       "      <td>NaN</td>\n",
       "      <td>Non-Asset</td>\n",
       "      <td>2017</td>\n",
       "      <td>2017-02-08</td>\n",
       "      <td>NaN</td>\n",
       "      <td>NaN</td>\n",
       "      <td>NaN</td>\n",
       "      <td>NaN</td>\n",
       "      <td>NaN</td>\n",
       "      <td>NaN</td>\n",
       "      <td>NaN</td>\n",
       "      <td>NaN</td>\n",
       "      <td>NaN</td>\n",
       "      <td>NaN</td>\n",
       "      <td>NaN</td>\n",
       "    </tr>\n",
       "    <tr>\n",
       "      <th>1737804465</th>\n",
       "      <td>CAPITAL EQUIPMENT ACQUISITION</td>\n",
       "      <td>BACKHOE (1)</td>\n",
       "      <td>Vehicles and Equipment</td>\n",
       "      <td>120750.0</td>\n",
       "      <td>Planned</td>\n",
       "      <td>NaN</td>\n",
       "      <td>Non-Asset</td>\n",
       "      <td>2019</td>\n",
       "      <td>2019-03-20</td>\n",
       "      <td>NaN</td>\n",
       "      <td>NaN</td>\n",
       "      <td>NaN</td>\n",
       "      <td>NaN</td>\n",
       "      <td>NaN</td>\n",
       "      <td>NaN</td>\n",
       "      <td>NaN</td>\n",
       "      <td>NaN</td>\n",
       "      <td>NaN</td>\n",
       "      <td>NaN</td>\n",
       "      <td>NaN</td>\n",
       "    </tr>\n",
       "    <tr>\n",
       "      <th>1610645575</th>\n",
       "      <td>FACILITY IMPROVEMENTS - PUBLIC SAFETY FACILITIES</td>\n",
       "      <td>THADDEUS STEVENS SCHOOL - SPECIAL DEPLOYMENT D...</td>\n",
       "      <td>Facility Improvement</td>\n",
       "      <td>605000.0</td>\n",
       "      <td>In Progress</td>\n",
       "      <td>Thaddeus Stevens Elementary School</td>\n",
       "      <td>Facility</td>\n",
       "      <td>2019</td>\n",
       "      <td>2019-07-05</td>\n",
       "      <td>f</td>\n",
       "      <td>Elliott</td>\n",
       "      <td>2.0</td>\n",
       "      <td>20.0</td>\n",
       "      <td>4.200356e+10</td>\n",
       "      <td>5.0</td>\n",
       "      <td>20.0</td>\n",
       "      <td>6.0</td>\n",
       "      <td>1-17</td>\n",
       "      <td>40.442479</td>\n",
       "      <td>-80.040080</td>\n",
       "    </tr>\n",
       "  </tbody>\n",
       "</table>\n",
       "</div>"
      ],
      "text/plain": [
       "                                                        name  \\\n",
       "id                                                             \n",
       "1273388077                       STEP REPAIR AND REPLACEMENT   \n",
       "337260139                           RAMP AND PUBLIC SIDEWALK   \n",
       "1932663062           URBAN REDEVELOPMENT AUTHORITY PERSONNEL   \n",
       "1737804465                     CAPITAL EQUIPMENT ACQUISITION   \n",
       "1610645575  FACILITY IMPROVEMENTS - PUBLIC SAFETY FACILITIES   \n",
       "\n",
       "                                             task_description  \\\n",
       "id                                                              \n",
       "1273388077                       FRAZIER STREET STEP UPGRADES   \n",
       "337260139                 ADA Curb Ramps and Public Sidewalks   \n",
       "1932663062                        HOME program administration   \n",
       "1737804465                                        BACKHOE (1)   \n",
       "1610645575  THADDEUS STEVENS SCHOOL - SPECIAL DEPLOYMENT D...   \n",
       "\n",
       "                                    area  budgeted_amount       status  \\\n",
       "id                                                                       \n",
       "1273388077  Engineering and Construction         200000.0      Planned   \n",
       "337260139   Engineering and Construction         100000.0      Planned   \n",
       "1932663062      Administration/Sub-Award         160000.0      Planned   \n",
       "1737804465        Vehicles and Equipment         120750.0      Planned   \n",
       "1610645575          Facility Improvement         605000.0  In Progress   \n",
       "\n",
       "                                      asset_id asset_type  fiscal_year  \\\n",
       "id                                                                       \n",
       "1273388077            Frazier St from Bates St       Step         2020   \n",
       "337260139                                  NaN  Non-Asset         2017   \n",
       "1932663062                                 NaN  Non-Asset         2017   \n",
       "1737804465                                 NaN  Non-Asset         2019   \n",
       "1610645575  Thaddeus Stevens Elementary School   Facility         2019   \n",
       "\n",
       "            start_date inactive   neighborhood  council_district  ward  \\\n",
       "id                                                                       \n",
       "1273388077  2020-09-24      NaN  South Oakland               3.0   4.0   \n",
       "337260139   2017-02-08      NaN            NaN               NaN   NaN   \n",
       "1932663062  2017-02-08      NaN            NaN               NaN   NaN   \n",
       "1737804465  2019-03-20      NaN            NaN               NaN   NaN   \n",
       "1610645575  2019-07-05        f        Elliott               2.0  20.0   \n",
       "\n",
       "                   tract  public_works_division  pli_division  police_zone  \\\n",
       "id                                                                           \n",
       "1273388077  4.200304e+10                    3.0           4.0          4.0   \n",
       "337260139            NaN                    NaN           NaN          NaN   \n",
       "1932663062           NaN                    NaN           NaN          NaN   \n",
       "1737804465           NaN                    NaN           NaN          NaN   \n",
       "1610645575  4.200356e+10                    5.0          20.0          6.0   \n",
       "\n",
       "           fire_zone   latitude  longitude  \n",
       "id                                          \n",
       "1273388077      2-11  40.432454 -79.957794  \n",
       "337260139        NaN        NaN        NaN  \n",
       "1932663062       NaN        NaN        NaN  \n",
       "1737804465       NaN        NaN        NaN  \n",
       "1610645575      1-17  40.442479 -80.040080  "
      ]
     },
     "execution_count": 66,
     "metadata": {},
     "output_type": "execute_result"
    }
   ],
   "source": [
    "capital = pd.read_csv(\"capitalprojects.csv\", sep = ',', index_col = 'id')\n",
    "\n",
    "capital.sample(5)\n"
   ]
  },
  {
   "cell_type": "code",
   "execution_count": 67,
   "metadata": {},
   "outputs": [
    {
     "data": {
      "text/plain": [
       "neighborhood\n",
       "Allegheny Center       1962770.50\n",
       "Allegheny West         6813068.20\n",
       "Allentown               640500.00\n",
       "Arlington               250000.00\n",
       "Banksville             2973000.00\n",
       "                          ...    \n",
       "Upper Hill             1430968.75\n",
       "Upper Lawrenceville       8500.00\n",
       "West End                555057.58\n",
       "Westwood                325000.00\n",
       "Windgap                  85000.00\n",
       "Name: budgeted_amount, Length: 73, dtype: float64"
      ]
     },
     "execution_count": 67,
     "metadata": {},
     "output_type": "execute_result"
    }
   ],
   "source": [
    "capital_projects.groupby(['neighborhood']).mean()"
   ]
  },
  {
   "cell_type": "code",
   "execution_count": 68,
   "metadata": {},
   "outputs": [
    {
     "data": {
      "text/plain": [
       "count    7.300000e+01\n",
       "mean     1.940615e+06\n",
       "std      2.504476e+06\n",
       "min      5.200000e+03\n",
       "25%      2.600000e+05\n",
       "50%      1.000000e+06\n",
       "75%      2.425127e+06\n",
       "max      1.304770e+07\n",
       "Name: budgeted_amount, dtype: float64"
      ]
     },
     "execution_count": 68,
     "metadata": {},
     "output_type": "execute_result"
    }
   ],
   "source": [
    "capital_projects.describe()"
   ]
  },
  {
   "cell_type": "markdown",
   "metadata": {},
   "source": [
    "On average, the neighborhoods in Pittsburgh are spending around *1.94 million* dollars on each capital project. "
   ]
  },
  {
   "cell_type": "markdown",
   "metadata": {},
   "source": [
    "## Neighborhoods with Highest Budgets"
   ]
  },
  {
   "cell_type": "markdown",
   "metadata": {},
   "source": [
    "To get a better sense of which neighborhoods are spending the most, we'll look at the total spending of each neighborhood, as well as the average they're spending on each project."
   ]
  },
  {
   "cell_type": "code",
   "execution_count": 69,
   "metadata": {},
   "outputs": [],
   "source": [
    "capital_projects = capital.groupby(\"neighborhood\").sum()['budgeted_amount']\n",
    "budget_capital = capital_projects.sort_values(ascending = False)"
   ]
  },
  {
   "cell_type": "code",
   "execution_count": 70,
   "metadata": {},
   "outputs": [
    {
     "data": {
      "text/plain": [
       "neighborhood\n",
       "Greenfield                   13047700.0\n",
       "South Side Flats              9046026.0\n",
       "Central Business District     8206845.0\n",
       "Allegheny West                6813068.2\n",
       "Elliott                       6675768.0\n",
       "Name: budgeted_amount, dtype: float64"
      ]
     },
     "execution_count": 70,
     "metadata": {},
     "output_type": "execute_result"
    }
   ],
   "source": [
    "budget_capital.head()"
   ]
  },
  {
   "cell_type": "code",
   "execution_count": 71,
   "metadata": {},
   "outputs": [
    {
     "data": {
      "text/plain": [
       "neighborhood\n",
       "Knoxville         1.450000e+06\n",
       "Swisshelm Park    1.365667e+06\n",
       "Greenfield        1.003669e+06\n",
       "Allegheny West    9.732955e+05\n",
       "Banksville        7.432500e+05\n",
       "Name: budgeted_amount, dtype: float64"
      ]
     },
     "execution_count": 71,
     "metadata": {},
     "output_type": "execute_result"
    }
   ],
   "source": [
    "projects_neighborhood = capital.groupby(\"neighborhood\").mean()['budgeted_amount']\n",
    "projects_neighborhood.sort_values(ascending = False).head()"
   ]
  },
  {
   "cell_type": "markdown",
   "metadata": {},
   "source": [
    "Unlike the total budget of each neighborhood, *Knoxville*, tops the chart at around **1.45 million dollars** per project. Greenfield, however, has the highest total budget for captial projects."
   ]
  },
  {
   "cell_type": "markdown",
   "metadata": {},
   "source": [
    "There are a lot of NaN, so we'll drop the columns that don't mean much to our metric."
   ]
  },
  {
   "cell_type": "code",
   "execution_count": 72,
   "metadata": {},
   "outputs": [
    {
     "data": {
      "text/html": [
       "<div>\n",
       "<style scoped>\n",
       "    .dataframe tbody tr th:only-of-type {\n",
       "        vertical-align: middle;\n",
       "    }\n",
       "\n",
       "    .dataframe tbody tr th {\n",
       "        vertical-align: top;\n",
       "    }\n",
       "\n",
       "    .dataframe thead th {\n",
       "        text-align: right;\n",
       "    }\n",
       "</style>\n",
       "<table border=\"1\" class=\"dataframe\">\n",
       "  <thead>\n",
       "    <tr style=\"text-align: right;\">\n",
       "      <th></th>\n",
       "      <th>name</th>\n",
       "      <th>task_description</th>\n",
       "      <th>area</th>\n",
       "      <th>budgeted_amount</th>\n",
       "      <th>status</th>\n",
       "      <th>asset_id</th>\n",
       "      <th>asset_type</th>\n",
       "      <th>fiscal_year</th>\n",
       "      <th>start_date</th>\n",
       "      <th>inactive</th>\n",
       "      <th>neighborhood</th>\n",
       "      <th>council_district</th>\n",
       "      <th>ward</th>\n",
       "      <th>tract</th>\n",
       "      <th>public_works_division</th>\n",
       "      <th>pli_division</th>\n",
       "      <th>police_zone</th>\n",
       "      <th>fire_zone</th>\n",
       "      <th>latitude</th>\n",
       "      <th>longitude</th>\n",
       "    </tr>\n",
       "    <tr>\n",
       "      <th>id</th>\n",
       "      <th></th>\n",
       "      <th></th>\n",
       "      <th></th>\n",
       "      <th></th>\n",
       "      <th></th>\n",
       "      <th></th>\n",
       "      <th></th>\n",
       "      <th></th>\n",
       "      <th></th>\n",
       "      <th></th>\n",
       "      <th></th>\n",
       "      <th></th>\n",
       "      <th></th>\n",
       "      <th></th>\n",
       "      <th></th>\n",
       "      <th></th>\n",
       "      <th></th>\n",
       "      <th></th>\n",
       "      <th></th>\n",
       "      <th></th>\n",
       "    </tr>\n",
       "  </thead>\n",
       "  <tbody>\n",
       "    <tr>\n",
       "      <th>862962060</th>\n",
       "      <td>RECREATION AND SENIOR CENTERS</td>\n",
       "      <td>Brighton Heights - Roof</td>\n",
       "      <td>Facility Improvement</td>\n",
       "      <td>50000.0</td>\n",
       "      <td>Planned</td>\n",
       "      <td>B600 - Brighton Heights Senior Center Roof</td>\n",
       "      <td>Roofing System</td>\n",
       "      <td>2017</td>\n",
       "      <td>2017-02-08</td>\n",
       "      <td>f</td>\n",
       "      <td>Brighton Heights</td>\n",
       "      <td>1.0</td>\n",
       "      <td>27.0</td>\n",
       "      <td>4.200327e+10</td>\n",
       "      <td>1.0</td>\n",
       "      <td>27.0</td>\n",
       "      <td>1.0</td>\n",
       "      <td>1-14</td>\n",
       "      <td>40.479269</td>\n",
       "      <td>-80.035784</td>\n",
       "    </tr>\n",
       "    <tr>\n",
       "      <th>1806724539</th>\n",
       "      <td>PENNDOT LOCAL SHARE (TIP)</td>\n",
       "      <td>Signal Replacement</td>\n",
       "      <td>Engineering and Construction</td>\n",
       "      <td>3000.0</td>\n",
       "      <td>Planned</td>\n",
       "      <td>TS267</td>\n",
       "      <td>Signalized Intersection</td>\n",
       "      <td>2017</td>\n",
       "      <td>2017-02-08</td>\n",
       "      <td>f</td>\n",
       "      <td>East Allegheny</td>\n",
       "      <td>1.0</td>\n",
       "      <td>23.0</td>\n",
       "      <td>4.200356e+10</td>\n",
       "      <td>1.0</td>\n",
       "      <td>23.0</td>\n",
       "      <td>1.0</td>\n",
       "      <td>1-6</td>\n",
       "      <td>40.456418</td>\n",
       "      <td>-79.998660</td>\n",
       "    </tr>\n",
       "    <tr>\n",
       "      <th>1175169281</th>\n",
       "      <td>SPORT FACILITY IMPROVEMENTS</td>\n",
       "      <td>Court Repair with ARMORÂ® Crack and Color Coat...</td>\n",
       "      <td>Facility Improvement</td>\n",
       "      <td>38250.0</td>\n",
       "      <td>Canceled</td>\n",
       "      <td>Arlington Park Basketball Court 1</td>\n",
       "      <td>Court</td>\n",
       "      <td>2017</td>\n",
       "      <td>2017-03-07</td>\n",
       "      <td>f</td>\n",
       "      <td>South Side Slopes</td>\n",
       "      <td>3.0</td>\n",
       "      <td>16.0</td>\n",
       "      <td>4.200316e+10</td>\n",
       "      <td>3.0</td>\n",
       "      <td>16.0</td>\n",
       "      <td>3.0</td>\n",
       "      <td>4-22</td>\n",
       "      <td>40.417981</td>\n",
       "      <td>-79.975032</td>\n",
       "    </tr>\n",
       "    <tr>\n",
       "      <th>1934747185</th>\n",
       "      <td>LIBERTY AVENUE (HSIP)</td>\n",
       "      <td>LIBERTY AVE (HSIP) - FINAL DESIGN</td>\n",
       "      <td>Engineering and Construction</td>\n",
       "      <td>100000.0</td>\n",
       "      <td>Planned</td>\n",
       "      <td>954</td>\n",
       "      <td>Pavement</td>\n",
       "      <td>2019</td>\n",
       "      <td>2019-02-05</td>\n",
       "      <td>f</td>\n",
       "      <td>Strip District</td>\n",
       "      <td>7.0</td>\n",
       "      <td>2.0</td>\n",
       "      <td>4.200302e+10</td>\n",
       "      <td>6.0</td>\n",
       "      <td>2.0</td>\n",
       "      <td>2.0</td>\n",
       "      <td>2-3</td>\n",
       "      <td>40.449853</td>\n",
       "      <td>-79.984346</td>\n",
       "    </tr>\n",
       "    <tr>\n",
       "      <th>2083103113</th>\n",
       "      <td>PLAY AREA IMPROVEMENTS</td>\n",
       "      <td>Allegheny Commons Park - Safety Surface</td>\n",
       "      <td>Facility Improvement</td>\n",
       "      <td>57000.0</td>\n",
       "      <td>Completed</td>\n",
       "      <td>Sue Murray Playground</td>\n",
       "      <td>Playground</td>\n",
       "      <td>2018</td>\n",
       "      <td>2018-04-04</td>\n",
       "      <td>f</td>\n",
       "      <td>Allegheny Center</td>\n",
       "      <td>1.0</td>\n",
       "      <td>22.0</td>\n",
       "      <td>4.200356e+10</td>\n",
       "      <td>1.0</td>\n",
       "      <td>22.0</td>\n",
       "      <td>1.0</td>\n",
       "      <td>1-6</td>\n",
       "      <td>40.451632</td>\n",
       "      <td>-80.001547</td>\n",
       "    </tr>\n",
       "  </tbody>\n",
       "</table>\n",
       "</div>"
      ],
      "text/plain": [
       "                                     name  \\\n",
       "id                                          \n",
       "862962060   RECREATION AND SENIOR CENTERS   \n",
       "1806724539      PENNDOT LOCAL SHARE (TIP)   \n",
       "1175169281    SPORT FACILITY IMPROVEMENTS   \n",
       "1934747185          LIBERTY AVENUE (HSIP)   \n",
       "2083103113         PLAY AREA IMPROVEMENTS   \n",
       "\n",
       "                                             task_description  \\\n",
       "id                                                              \n",
       "862962060                             Brighton Heights - Roof   \n",
       "1806724539                                 Signal Replacement   \n",
       "1175169281  Court Repair with ARMORÂ® Crack and Color Coat...   \n",
       "1934747185                  LIBERTY AVE (HSIP) - FINAL DESIGN   \n",
       "2083103113            Allegheny Commons Park - Safety Surface   \n",
       "\n",
       "                                    area  budgeted_amount     status  \\\n",
       "id                                                                     \n",
       "862962060           Facility Improvement          50000.0    Planned   \n",
       "1806724539  Engineering and Construction           3000.0    Planned   \n",
       "1175169281          Facility Improvement          38250.0   Canceled   \n",
       "1934747185  Engineering and Construction         100000.0    Planned   \n",
       "2083103113          Facility Improvement          57000.0  Completed   \n",
       "\n",
       "                                              asset_id  \\\n",
       "id                                                       \n",
       "862962060   B600 - Brighton Heights Senior Center Roof   \n",
       "1806724539                                       TS267   \n",
       "1175169281           Arlington Park Basketball Court 1   \n",
       "1934747185                                         954   \n",
       "2083103113                       Sue Murray Playground   \n",
       "\n",
       "                         asset_type  fiscal_year  start_date inactive  \\\n",
       "id                                                                      \n",
       "862962060            Roofing System         2017  2017-02-08        f   \n",
       "1806724539  Signalized Intersection         2017  2017-02-08        f   \n",
       "1175169281                    Court         2017  2017-03-07        f   \n",
       "1934747185                 Pavement         2019  2019-02-05        f   \n",
       "2083103113               Playground         2018  2018-04-04        f   \n",
       "\n",
       "                 neighborhood  council_district  ward         tract  \\\n",
       "id                                                                    \n",
       "862962060    Brighton Heights               1.0  27.0  4.200327e+10   \n",
       "1806724539     East Allegheny               1.0  23.0  4.200356e+10   \n",
       "1175169281  South Side Slopes               3.0  16.0  4.200316e+10   \n",
       "1934747185     Strip District               7.0   2.0  4.200302e+10   \n",
       "2083103113   Allegheny Center               1.0  22.0  4.200356e+10   \n",
       "\n",
       "            public_works_division  pli_division  police_zone fire_zone  \\\n",
       "id                                                                       \n",
       "862962060                     1.0          27.0          1.0      1-14   \n",
       "1806724539                    1.0          23.0          1.0       1-6   \n",
       "1175169281                    3.0          16.0          3.0      4-22   \n",
       "1934747185                    6.0           2.0          2.0       2-3   \n",
       "2083103113                    1.0          22.0          1.0       1-6   \n",
       "\n",
       "             latitude  longitude  \n",
       "id                                \n",
       "862962060   40.479269 -80.035784  \n",
       "1806724539  40.456418 -79.998660  \n",
       "1175169281  40.417981 -79.975032  \n",
       "1934747185  40.449853 -79.984346  \n",
       "2083103113  40.451632 -80.001547  "
      ]
     },
     "execution_count": 72,
     "metadata": {},
     "output_type": "execute_result"
    }
   ],
   "source": [
    "capital_df = capital.dropna()\n",
    "capital_df.sample(5)"
   ]
  },
  {
   "cell_type": "code",
   "execution_count": 73,
   "metadata": {},
   "outputs": [
    {
     "data": {
      "text/plain": [
       "10"
      ]
     },
     "execution_count": 73,
     "metadata": {},
     "output_type": "execute_result"
    }
   ],
   "source": [
    "#mask to only look at neighborhoods above threshold\n",
    "project_mask = capital_df['budgeted_amount'] >= 1200000\n",
    "high_budget = capital_df[project_mask]\n",
    "high_budget.shape[0]"
   ]
  },
  {
   "cell_type": "code",
   "execution_count": 74,
   "metadata": {},
   "outputs": [
    {
     "data": {
      "text/html": [
       "<div>\n",
       "<style scoped>\n",
       "    .dataframe tbody tr th:only-of-type {\n",
       "        vertical-align: middle;\n",
       "    }\n",
       "\n",
       "    .dataframe tbody tr th {\n",
       "        vertical-align: top;\n",
       "    }\n",
       "\n",
       "    .dataframe thead th {\n",
       "        text-align: right;\n",
       "    }\n",
       "</style>\n",
       "<table border=\"1\" class=\"dataframe\">\n",
       "  <thead>\n",
       "    <tr style=\"text-align: right;\">\n",
       "      <th></th>\n",
       "      <th>name</th>\n",
       "      <th>task_description</th>\n",
       "      <th>area</th>\n",
       "      <th>budgeted_amount</th>\n",
       "      <th>status</th>\n",
       "      <th>asset_id</th>\n",
       "      <th>asset_type</th>\n",
       "      <th>fiscal_year</th>\n",
       "      <th>start_date</th>\n",
       "      <th>inactive</th>\n",
       "      <th>neighborhood</th>\n",
       "      <th>council_district</th>\n",
       "      <th>ward</th>\n",
       "      <th>tract</th>\n",
       "      <th>public_works_division</th>\n",
       "      <th>pli_division</th>\n",
       "      <th>police_zone</th>\n",
       "      <th>fire_zone</th>\n",
       "      <th>latitude</th>\n",
       "      <th>longitude</th>\n",
       "    </tr>\n",
       "    <tr>\n",
       "      <th>id</th>\n",
       "      <th></th>\n",
       "      <th></th>\n",
       "      <th></th>\n",
       "      <th></th>\n",
       "      <th></th>\n",
       "      <th></th>\n",
       "      <th></th>\n",
       "      <th></th>\n",
       "      <th></th>\n",
       "      <th></th>\n",
       "      <th></th>\n",
       "      <th></th>\n",
       "      <th></th>\n",
       "      <th></th>\n",
       "      <th></th>\n",
       "      <th></th>\n",
       "      <th></th>\n",
       "      <th></th>\n",
       "      <th></th>\n",
       "      <th></th>\n",
       "    </tr>\n",
       "  </thead>\n",
       "  <tbody>\n",
       "    <tr>\n",
       "      <th>2081497510</th>\n",
       "      <td>PARK RECONSTRUCTION</td>\n",
       "      <td>Wightman Park Improvements and Green Stormwate...</td>\n",
       "      <td>Facility Improvement</td>\n",
       "      <td>4003435.0</td>\n",
       "      <td>In Progress</td>\n",
       "      <td>Wightman Park</td>\n",
       "      <td>Park</td>\n",
       "      <td>2018</td>\n",
       "      <td>2018-04-04</td>\n",
       "      <td>f</td>\n",
       "      <td>Squirrel Hill North</td>\n",
       "      <td>8.0</td>\n",
       "      <td>14.0</td>\n",
       "      <td>4.200314e+10</td>\n",
       "      <td>3.0</td>\n",
       "      <td>14.0</td>\n",
       "      <td>4.0</td>\n",
       "      <td>2-18</td>\n",
       "      <td>40.443336</td>\n",
       "      <td>-79.927064</td>\n",
       "    </tr>\n",
       "    <tr>\n",
       "      <th>223087014</th>\n",
       "      <td>McFARREN STREET (SECOND AVENUE) BRIDGE (TIP)</td>\n",
       "      <td>Bridge Construction</td>\n",
       "      <td>Engineering and Construction</td>\n",
       "      <td>3382000.0</td>\n",
       "      <td>Planned</td>\n",
       "      <td>MacFarren St Bridge</td>\n",
       "      <td>Bridge</td>\n",
       "      <td>2018</td>\n",
       "      <td>2018-03-07</td>\n",
       "      <td>f</td>\n",
       "      <td>Swisshelm Park</td>\n",
       "      <td>5.0</td>\n",
       "      <td>14.0</td>\n",
       "      <td>4.200314e+10</td>\n",
       "      <td>3.0</td>\n",
       "      <td>14.0</td>\n",
       "      <td>4.0</td>\n",
       "      <td>2-12</td>\n",
       "      <td>40.415542</td>\n",
       "      <td>-79.916199</td>\n",
       "    </tr>\n",
       "    <tr>\n",
       "      <th>1975162648</th>\n",
       "      <td>WEST OHIO STREET BRIDGE (TIP)</td>\n",
       "      <td>Construction Phase</td>\n",
       "      <td>Engineering and Construction</td>\n",
       "      <td>2479500.0</td>\n",
       "      <td>Planned</td>\n",
       "      <td>West Ohio Street Bridge</td>\n",
       "      <td>Bridge</td>\n",
       "      <td>2017</td>\n",
       "      <td>2017-02-08</td>\n",
       "      <td>f</td>\n",
       "      <td>Allegheny West</td>\n",
       "      <td>1.0</td>\n",
       "      <td>22.0</td>\n",
       "      <td>4.200356e+10</td>\n",
       "      <td>1.0</td>\n",
       "      <td>22.0</td>\n",
       "      <td>1.0</td>\n",
       "      <td>1-7</td>\n",
       "      <td>40.451619</td>\n",
       "      <td>-80.010673</td>\n",
       "    </tr>\n",
       "    <tr>\n",
       "      <th>579358971</th>\n",
       "      <td>CARNAHAN ROAD WENZELL AVENUE (TIP)</td>\n",
       "      <td>Construction</td>\n",
       "      <td>Engineering and Construction</td>\n",
       "      <td>2240000.0</td>\n",
       "      <td>Planned</td>\n",
       "      <td>Carnahan Road Bridge</td>\n",
       "      <td>Bridge</td>\n",
       "      <td>2017</td>\n",
       "      <td>2017-02-08</td>\n",
       "      <td>f</td>\n",
       "      <td>Banksville</td>\n",
       "      <td>2.0</td>\n",
       "      <td>20.0</td>\n",
       "      <td>4.200320e+10</td>\n",
       "      <td>5.0</td>\n",
       "      <td>20.0</td>\n",
       "      <td>6.0</td>\n",
       "      <td>4-9</td>\n",
       "      <td>40.407141</td>\n",
       "      <td>-80.034342</td>\n",
       "    </tr>\n",
       "    <tr>\n",
       "      <th>130752420</th>\n",
       "      <td>CHARLES ANDERSON BRIDGE (TIP)</td>\n",
       "      <td>Charles Anderson Bridge - Final Design</td>\n",
       "      <td>Engineering and Construction</td>\n",
       "      <td>2000000.0</td>\n",
       "      <td>Planned</td>\n",
       "      <td>Charles Anderson Bridge</td>\n",
       "      <td>Bridge</td>\n",
       "      <td>2018</td>\n",
       "      <td>2018-02-12</td>\n",
       "      <td>f</td>\n",
       "      <td>Central Oakland</td>\n",
       "      <td>3.0</td>\n",
       "      <td>4.0</td>\n",
       "      <td>4.200304e+10</td>\n",
       "      <td>3.0</td>\n",
       "      <td>4.0</td>\n",
       "      <td>4.0</td>\n",
       "      <td>2-8</td>\n",
       "      <td>40.434414</td>\n",
       "      <td>-79.950131</td>\n",
       "    </tr>\n",
       "    <tr>\n",
       "      <th>336270312</th>\n",
       "      <td>EAST CARSON STREET</td>\n",
       "      <td>EAST CARSON STREET - CONSTRUCTION</td>\n",
       "      <td>Engineering and Construction</td>\n",
       "      <td>2000000.0</td>\n",
       "      <td>Planned</td>\n",
       "      <td>7490</td>\n",
       "      <td>Pavement</td>\n",
       "      <td>2019</td>\n",
       "      <td>2019-02-05</td>\n",
       "      <td>f</td>\n",
       "      <td>South Side Flats</td>\n",
       "      <td>3.0</td>\n",
       "      <td>17.0</td>\n",
       "      <td>4.200317e+10</td>\n",
       "      <td>3.0</td>\n",
       "      <td>17.0</td>\n",
       "      <td>3.0</td>\n",
       "      <td>4-24</td>\n",
       "      <td>40.428797</td>\n",
       "      <td>-79.981305</td>\n",
       "    </tr>\n",
       "    <tr>\n",
       "      <th>1819629922</th>\n",
       "      <td>SMALLMAN STREET RECONSTRUCTION</td>\n",
       "      <td>SMALLMAN STREET -  RECONSTRUCTION</td>\n",
       "      <td>Engineering and Construction</td>\n",
       "      <td>1730000.0</td>\n",
       "      <td>Planned</td>\n",
       "      <td>5012</td>\n",
       "      <td>Pavement</td>\n",
       "      <td>2019</td>\n",
       "      <td>2019-02-05</td>\n",
       "      <td>f</td>\n",
       "      <td>Strip District</td>\n",
       "      <td>7.0</td>\n",
       "      <td>2.0</td>\n",
       "      <td>4.200302e+10</td>\n",
       "      <td>6.0</td>\n",
       "      <td>2.0</td>\n",
       "      <td>2.0</td>\n",
       "      <td>2-3</td>\n",
       "      <td>40.451167</td>\n",
       "      <td>-79.985512</td>\n",
       "    </tr>\n",
       "  </tbody>\n",
       "</table>\n",
       "</div>"
      ],
      "text/plain": [
       "                                                    name  \\\n",
       "id                                                         \n",
       "2081497510                           PARK RECONSTRUCTION   \n",
       "223087014   McFARREN STREET (SECOND AVENUE) BRIDGE (TIP)   \n",
       "1975162648                 WEST OHIO STREET BRIDGE (TIP)   \n",
       "579358971             CARNAHAN ROAD WENZELL AVENUE (TIP)   \n",
       "130752420                  CHARLES ANDERSON BRIDGE (TIP)   \n",
       "336270312                             EAST CARSON STREET   \n",
       "1819629922                SMALLMAN STREET RECONSTRUCTION   \n",
       "\n",
       "                                             task_description  \\\n",
       "id                                                              \n",
       "2081497510  Wightman Park Improvements and Green Stormwate...   \n",
       "223087014                                 Bridge Construction   \n",
       "1975162648                                 Construction Phase   \n",
       "579358971                                        Construction   \n",
       "130752420              Charles Anderson Bridge - Final Design   \n",
       "336270312                   EAST CARSON STREET - CONSTRUCTION   \n",
       "1819629922                  SMALLMAN STREET -  RECONSTRUCTION   \n",
       "\n",
       "                                    area  budgeted_amount       status  \\\n",
       "id                                                                       \n",
       "2081497510          Facility Improvement        4003435.0  In Progress   \n",
       "223087014   Engineering and Construction        3382000.0      Planned   \n",
       "1975162648  Engineering and Construction        2479500.0      Planned   \n",
       "579358971   Engineering and Construction        2240000.0      Planned   \n",
       "130752420   Engineering and Construction        2000000.0      Planned   \n",
       "336270312   Engineering and Construction        2000000.0      Planned   \n",
       "1819629922  Engineering and Construction        1730000.0      Planned   \n",
       "\n",
       "                           asset_id asset_type  fiscal_year  start_date  \\\n",
       "id                                                                        \n",
       "2081497510            Wightman Park       Park         2018  2018-04-04   \n",
       "223087014       MacFarren St Bridge     Bridge         2018  2018-03-07   \n",
       "1975162648  West Ohio Street Bridge     Bridge         2017  2017-02-08   \n",
       "579358971      Carnahan Road Bridge     Bridge         2017  2017-02-08   \n",
       "130752420   Charles Anderson Bridge     Bridge         2018  2018-02-12   \n",
       "336270312                      7490   Pavement         2019  2019-02-05   \n",
       "1819629922                     5012   Pavement         2019  2019-02-05   \n",
       "\n",
       "           inactive         neighborhood  council_district  ward  \\\n",
       "id                                                                 \n",
       "2081497510        f  Squirrel Hill North               8.0  14.0   \n",
       "223087014         f       Swisshelm Park               5.0  14.0   \n",
       "1975162648        f       Allegheny West               1.0  22.0   \n",
       "579358971         f           Banksville               2.0  20.0   \n",
       "130752420         f      Central Oakland               3.0   4.0   \n",
       "336270312         f     South Side Flats               3.0  17.0   \n",
       "1819629922        f       Strip District               7.0   2.0   \n",
       "\n",
       "                   tract  public_works_division  pli_division  police_zone  \\\n",
       "id                                                                           \n",
       "2081497510  4.200314e+10                    3.0          14.0          4.0   \n",
       "223087014   4.200314e+10                    3.0          14.0          4.0   \n",
       "1975162648  4.200356e+10                    1.0          22.0          1.0   \n",
       "579358971   4.200320e+10                    5.0          20.0          6.0   \n",
       "130752420   4.200304e+10                    3.0           4.0          4.0   \n",
       "336270312   4.200317e+10                    3.0          17.0          3.0   \n",
       "1819629922  4.200302e+10                    6.0           2.0          2.0   \n",
       "\n",
       "           fire_zone   latitude  longitude  \n",
       "id                                          \n",
       "2081497510      2-18  40.443336 -79.927064  \n",
       "223087014       2-12  40.415542 -79.916199  \n",
       "1975162648       1-7  40.451619 -80.010673  \n",
       "579358971        4-9  40.407141 -80.034342  \n",
       "130752420        2-8  40.434414 -79.950131  \n",
       "336270312       4-24  40.428797 -79.981305  \n",
       "1819629922       2-3  40.451167 -79.985512  "
      ]
     },
     "execution_count": 74,
     "metadata": {},
     "output_type": "execute_result"
    }
   ],
   "source": [
    "high_budget.sort_values(by = 'budgeted_amount', ascending = False).head(7)"
   ]
  },
  {
   "cell_type": "markdown",
   "metadata": {},
   "source": [
    "The biggest project is Wightman Park improvements, spending around 4 million dollars"
   ]
  },
  {
   "cell_type": "markdown",
   "metadata": {},
   "source": [
    "## Spending in Neighborhoods"
   ]
  },
  {
   "cell_type": "markdown",
   "metadata": {},
   "source": [
    "To get a better sense of how many projects are still in progress around Pittsburgh, we'll look at the status of the highest total spending neighborhoods."
   ]
  },
  {
   "cell_type": "code",
   "execution_count": 75,
   "metadata": {},
   "outputs": [
    {
     "data": {
      "text/plain": [
       "Completed      5\n",
       "In Progress    2\n",
       "Planned        2\n",
       "Canceled       1\n",
       "Name: status, dtype: int64"
      ]
     },
     "execution_count": 75,
     "metadata": {},
     "output_type": "execute_result"
    }
   ],
   "source": [
    "#create mask to look at individual neighborhoods\n",
    "greenfield_mask = capital_df['neighborhood'] == 'Greenfield'\n",
    "greenfield_df = capital_df[greenfield_mask]\n",
    "\n",
    "greenfield_df['status'].value_counts()"
   ]
  },
  {
   "cell_type": "code",
   "execution_count": 76,
   "metadata": {},
   "outputs": [
    {
     "data": {
      "text/plain": [
       "<matplotlib.axes._subplots.AxesSubplot at 0x7f86670db370>"
      ]
     },
     "execution_count": 76,
     "metadata": {},
     "output_type": "execute_result"
    },
    {
     "data": {
      "image/png": "[encoded data removed]",
      "text/plain": [
       "<Figure size 432x288 with 1 Axes>"
      ]
     },
     "metadata": {},
     "output_type": "display_data"
    }
   ],
   "source": [
    "greenfield_df['status'].value_counts().sort_index().plot.pie()"
   ]
  },
  {
   "cell_type": "code",
   "execution_count": 77,
   "metadata": {},
   "outputs": [
    {
     "data": {
      "text/plain": [
       "Planned        10\n",
       "Completed       5\n",
       "In Progress     4\n",
       "Name: status, dtype: int64"
      ]
     },
     "execution_count": 77,
     "metadata": {},
     "output_type": "execute_result"
    }
   ],
   "source": [
    "south_mask = capital_df['neighborhood'] == 'South Side Flats'\n",
    "south_df = capital_df[south_mask]\n",
    "\n",
    "south_df['status'].value_counts()"
   ]
  },
  {
   "cell_type": "code",
   "execution_count": 78,
   "metadata": {},
   "outputs": [
    {
     "data": {
      "text/plain": [
       "<matplotlib.axes._subplots.AxesSubplot at 0x7f8667e86550>"
      ]
     },
     "execution_count": 78,
     "metadata": {},
     "output_type": "execute_result"
    },
    {
     "data": {
      "image/png": "[encoded data removed]",
      "text/plain": [
       "<Figure size 432x288 with 1 Axes>"
      ]
     },
     "metadata": {},
     "output_type": "display_data"
    }
   ],
   "source": [
    "south_df['status'].value_counts().sort_index().plot.pie()"
   ]
  },
  {
   "cell_type": "markdown",
   "metadata": {},
   "source": [
    "Since we want the neighborhood with most destruction, we'll just take into account projects that are in progress, or completed. "
   ]
  },
  {
   "cell_type": "code",
   "execution_count": 92,
   "metadata": {},
   "outputs": [
    {
     "data": {
      "text/plain": [
       "neighborhood\n",
       "Central Business District    2685845.0\n",
       "Name: budgeted_amount, dtype: float64"
      ]
     },
     "execution_count": 92,
     "metadata": {},
     "output_type": "execute_result"
    }
   ],
   "source": [
    "#mask to keep in progress and completed\n",
    "complete_project = capital_df['status'] != 'Planned'\n",
    "complete_df = capital_df[complete_project]\n",
    "\n",
    "total_budget = complete_df.groupby('neighborhood').sum()['budgeted_amount']"
   ]
  },
  {
   "cell_type": "code",
   "execution_count": 80,
   "metadata": {},
   "outputs": [],
   "source": [
    "neighborhoods = geopandas.read_file(\"Neighborhoods/Neighborhoods_.shp\") "
   ]
  },
  {
   "cell_type": "code",
   "execution_count": 98,
   "metadata": {},
   "outputs": [
    {
     "data": {
      "text/html": [
       "<div>\n",
       "<style scoped>\n",
       "    .dataframe tbody tr th:only-of-type {\n",
       "        vertical-align: middle;\n",
       "    }\n",
       "\n",
       "    .dataframe tbody tr th {\n",
       "        vertical-align: top;\n",
       "    }\n",
       "\n",
       "    .dataframe thead th {\n",
       "        text-align: right;\n",
       "    }\n",
       "</style>\n",
       "<table border=\"1\" class=\"dataframe\">\n",
       "  <thead>\n",
       "    <tr style=\"text-align: right;\">\n",
       "      <th></th>\n",
       "      <th>hood</th>\n",
       "      <th>budgeted_amount</th>\n",
       "      <th>geometry</th>\n",
       "    </tr>\n",
       "  </thead>\n",
       "  <tbody>\n",
       "    <tr>\n",
       "      <th>0</th>\n",
       "      <td>Central Oakland</td>\n",
       "      <td>NaN</td>\n",
       "      <td>POLYGON ((-79.95304 40.44203, -79.95302 40.442...</td>\n",
       "    </tr>\n",
       "    <tr>\n",
       "      <th>1</th>\n",
       "      <td>North Oakland</td>\n",
       "      <td>NaN</td>\n",
       "      <td>POLYGON ((-79.95455 40.45882, -79.95427 40.458...</td>\n",
       "    </tr>\n",
       "    <tr>\n",
       "      <th>2</th>\n",
       "      <td>West Oakland</td>\n",
       "      <td>NaN</td>\n",
       "      <td>POLYGON ((-79.96230 40.44294, -79.96220 40.442...</td>\n",
       "    </tr>\n",
       "    <tr>\n",
       "      <th>3</th>\n",
       "      <td>Crawford-Roberts</td>\n",
       "      <td>23156.25</td>\n",
       "      <td>POLYGON ((-79.98275 40.44641, -79.98273 40.446...</td>\n",
       "    </tr>\n",
       "    <tr>\n",
       "      <th>4</th>\n",
       "      <td>Strip District</td>\n",
       "      <td>NaN</td>\n",
       "      <td>POLYGON ((-79.97494 40.45629, -79.97484 40.456...</td>\n",
       "    </tr>\n",
       "    <tr>\n",
       "      <th>...</th>\n",
       "      <td>...</td>\n",
       "      <td>...</td>\n",
       "      <td>...</td>\n",
       "    </tr>\n",
       "    <tr>\n",
       "      <th>85</th>\n",
       "      <td>Ridgemont</td>\n",
       "      <td>NaN</td>\n",
       "      <td>POLYGON ((-80.03431 40.43366, -80.03424 40.433...</td>\n",
       "    </tr>\n",
       "    <tr>\n",
       "      <th>86</th>\n",
       "      <td>West End</td>\n",
       "      <td>555057.58</td>\n",
       "      <td>POLYGON ((-80.02869 40.44454, -80.02845 40.444...</td>\n",
       "    </tr>\n",
       "    <tr>\n",
       "      <th>87</th>\n",
       "      <td>California-Kirkbride</td>\n",
       "      <td>NaN</td>\n",
       "      <td>POLYGON ((-80.02039 40.46285, -80.02022 40.462...</td>\n",
       "    </tr>\n",
       "    <tr>\n",
       "      <th>88</th>\n",
       "      <td>Glen Hazel</td>\n",
       "      <td>NaN</td>\n",
       "      <td>POLYGON ((-79.92030 40.41205, -79.92027 40.412...</td>\n",
       "    </tr>\n",
       "    <tr>\n",
       "      <th>89</th>\n",
       "      <td>Perry North</td>\n",
       "      <td>125000.00</td>\n",
       "      <td>POLYGON ((-80.01783 40.49736, -80.01787 40.497...</td>\n",
       "    </tr>\n",
       "  </tbody>\n",
       "</table>\n",
       "<p>90 rows × 3 columns</p>\n",
       "</div>"
      ],
      "text/plain": [
       "                    hood  budgeted_amount  \\\n",
       "0        Central Oakland              NaN   \n",
       "1          North Oakland              NaN   \n",
       "2           West Oakland              NaN   \n",
       "3       Crawford-Roberts         23156.25   \n",
       "4         Strip District              NaN   \n",
       "..                   ...              ...   \n",
       "85             Ridgemont              NaN   \n",
       "86              West End        555057.58   \n",
       "87  California-Kirkbride              NaN   \n",
       "88            Glen Hazel              NaN   \n",
       "89           Perry North        125000.00   \n",
       "\n",
       "                                             geometry  \n",
       "0   POLYGON ((-79.95304 40.44203, -79.95302 40.442...  \n",
       "1   POLYGON ((-79.95455 40.45882, -79.95427 40.458...  \n",
       "2   POLYGON ((-79.96230 40.44294, -79.96220 40.442...  \n",
       "3   POLYGON ((-79.98275 40.44641, -79.98273 40.446...  \n",
       "4   POLYGON ((-79.97494 40.45629, -79.97484 40.456...  \n",
       "..                                                ...  \n",
       "85  POLYGON ((-80.03431 40.43366, -80.03424 40.433...  \n",
       "86  POLYGON ((-80.02869 40.44454, -80.02845 40.444...  \n",
       "87  POLYGON ((-80.02039 40.46285, -80.02022 40.462...  \n",
       "88  POLYGON ((-79.92030 40.41205, -79.92027 40.412...  \n",
       "89  POLYGON ((-80.01783 40.49736, -80.01787 40.497...  \n",
       "\n",
       "[90 rows x 3 columns]"
      ]
     },
     "execution_count": 98,
     "metadata": {},
     "output_type": "execute_result"
    }
   ],
   "source": [
    "#plot based on total budget for each neighborhood\n",
    "capital_map = neighborhoods.merge(total_budget, how='left', left_on='hood', right_on='neighborhood')\n",
    "capital_map.dropna()\n",
    "capital_map[['hood', 'budgeted_amount', 'geometry']]"
   ]
  },
  {
   "cell_type": "code",
   "execution_count": 99,
   "metadata": {},
   "outputs": [
    {
     "data": {
      "text/plain": [
       "<matplotlib.axes._subplots.AxesSubplot at 0x7f8667e86910>"
      ]
     },
     "execution_count": 99,
     "metadata": {},
     "output_type": "execute_result"
    },
    {
     "data": {
      "image/png": "[encoded data removed]",
      "text/plain": [
       "<Figure size 432x288 with 2 Axes>"
      ]
     },
     "metadata": {
      "needs_background": "light"
     },
     "output_type": "display_data"
    }
   ],
   "source": [
    "capital_map.plot(column = 'budgeted_amount', \n",
    "                cmap = 'OrRd',\n",
    "                edgecolor = 'black',\n",
    "                legend = True,\n",
    "                legend_kwds = {'label': 'Budget'})"
   ]
  },
  {
   "cell_type": "markdown",
   "metadata": {},
   "source": [
    "## Conclusion"
   ]
  },
  {
   "cell_type": "markdown",
   "metadata": {},
   "source": [
    "For my final calculation, I will only look at the budget of projects that are completed or in-progress. That way, we can see which neighborhoods have had an immediate effect on them as a result of the projects. "
   ]
  },
  {
   "cell_type": "code",
   "execution_count": 102,
   "metadata": {},
   "outputs": [
    {
     "data": {
      "text/plain": [
       "neighborhood\n",
       "Squirrel Hill North          4003435.00\n",
       "South Side Flats             2852509.00\n",
       "Central Business District    2685845.00\n",
       "Elliott                      2543268.00\n",
       "Greenfield                   1612700.00\n",
       "Squirrel Hill South          1500500.00\n",
       "Beltzhoover                  1181425.00\n",
       "East Liberty                 1150200.00\n",
       "Brookline                     967650.00\n",
       "Lincoln-Lemington-Belmar      835777.07\n",
       "Beechview                     815400.00\n",
       "Carrick                       810627.00\n",
       "South Side Slopes             739700.00\n",
       "Swisshelm Park                715000.00\n",
       "West End                      555057.58\n",
       "Central Northside             537375.00\n",
       "Hays                          500000.00\n",
       "Lower Lawrenceville           490200.00\n",
       "Spring Hill-City View         435000.00\n",
       "Shadyside                     381660.00\n",
       "Crafton Heights               374625.50\n",
       "Fineview                      310000.00\n",
       "Allegheny Center              302887.50\n",
       "Bloomfield                    299711.00\n",
       "Brighton Heights              283945.00\n",
       "Hazelwood                     275000.00\n",
       "Mount Washington              250000.00\n",
       "Stanton Heights               250000.00\n",
       "Larimer                       164500.00\n",
       "Lincoln Place                 148000.00\n",
       "Troy Hill                     146580.00\n",
       "Perry North                   125000.00\n",
       "Allentown                     125000.00\n",
       "South Oakland                 122625.00\n",
       "Middle Hill                    86662.00\n",
       "Marshall-Shadeland             85200.00\n",
       "Windgap                        85000.00\n",
       "Terrace Village                82262.50\n",
       "Highland Park                  57250.32\n",
       "Polish Hill                    55000.00\n",
       "Overbrook                      50000.00\n",
       "Esplen                         40800.00\n",
       "Sheraden                       35000.00\n",
       "Central Lawrenceville          30000.00\n",
       "Point Breeze                   25000.00\n",
       "Crawford-Roberts               23156.25\n",
       "Upper Hill                     10968.75\n",
       "Homewood South                  8270.57\n",
       "East Hills                      5200.00\n",
       "Morningside                     5200.00\n",
       "Fairywood                       5200.00\n",
       "Garfield                        5200.00\n",
       "Manchester                      3000.00\n",
       "Name: budgeted_amount, dtype: float64"
      ]
     },
     "execution_count": 102,
     "metadata": {},
     "output_type": "execute_result"
    }
   ],
   "source": [
    "total_budget.sort_values(ascending = False)"
   ]
  },
  {
   "cell_type": "markdown",
   "metadata": {},
   "source": [
    "The highest budget for all capital projects in a neighborhood is in **Squirrel Hill North** with a budget of around **4 Million dollars**. South Side Flats and Central Business District follow with budgets of 2.8 million and 2.6 million respectively. "
   ]
  },
  {
   "cell_type": "markdown",
   "metadata": {},
   "source": [
    "Given this information, the best neighborhood in Pittsburgh is **Squirrel Hill North**. It best resembles Thneedville from the Lorax, given it's high capital budget."
   ]
  },
  {
   "cell_type": "code",
   "execution_count": null,
   "metadata": {},
   "outputs": [],
   "source": []
  }
 ],
 "metadata": {
  "kernelspec": {
   "display_name": "Python 3",
   "language": "python",
   "name": "python3"
  },
  "language_info": {
   "codemirror_mode": {
    "name": "ipython",
    "version": 3
   },
   "file_extension": ".py",
   "mimetype": "text/x-python",
   "name": "python",
   "nbconvert_exporter": "python",
   "pygments_lexer": "ipython3",
   "version": "3.8.3"
  }
 },
 "nbformat": 4,
 "nbformat_minor": 4
}
